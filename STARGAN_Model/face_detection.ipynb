{
 "cells": [
  {
   "cell_type": "code",
   "execution_count": 3,
   "metadata": {},
   "outputs": [],
   "source": [
    "import cv2\n",
    "import os\n",
    "#Setup the enviorment by linking to the Haar Cascades Models\n",
    "\n",
    "face_cascade = cv2.CascadeClassifier('haarcascades/haarcascade_frontalface_default.xml')\n",
    "eye_cascade = cv2.CascadeClassifier('haarcascades/haarcascade_eye.xml')"
   ]
  },
  {
   "cell_type": "code",
   "execution_count": 23,
   "metadata": {},
   "outputs": [],
   "source": [
    "def face_detection(img_dir):\n",
    "    img = cv2.imread(img_dir)\n",
    "    path_dir = r'C:\\Users\\YongTaek\\Desktop'\n",
    "    r = 500.0 / img.shape[1]\n",
    "    dim = (500, int(img.shape[0] * r))\n",
    "    resized = cv2.resize(img, dim, interpolation = cv2.INTER_AREA)\n",
    "    grey = cv2.cvtColor(resized, cv2.COLOR_BGR2GRAY)\n",
    "    faces = face_cascade.detectMultiScale(grey, 1.3, 5)\n",
    "    if faces == ():\n",
    "        print(\"얼굴을 인식할 수 없습니다.\")\n",
    "    for (x,y,w,h) in faces:\n",
    "        #cv2.rectangle(resized,(int(x+w*0.15),int(y+h*0.25)),(int(x+w-w*0.15),int(y+h-h*0.05)),(255,0,0),0)\n",
    "        roi_grey = grey[y:y+h, x:x+w]\n",
    "        roi_color = resized[y:y+h, x:x+w]\n",
    "        #cv2.imshow('image',resized)\n",
    "        #cv2.waitKey(0)\n",
    "        cv2.imwrite(os.path.join(path_dir, os.path.split(img_dir)[-1]), resized[int(y+h*0.25):int(y+h-h*0.05), int(x+w*0.2):int(x+w-w*0.2)])"
   ]
  },
  {
   "cell_type": "code",
   "execution_count": 28,
   "metadata": {},
   "outputs": [
    {
     "name": "stderr",
     "output_type": "stream",
     "text": [
      "C:\\Users\\YongTaek\\Anaconda3\\envs\\Caps\\lib\\site-packages\\ipykernel_launcher.py:9: DeprecationWarning: elementwise comparison failed; this will raise an error in the future.\n",
      "  if __name__ == '__main__':\n"
     ]
    }
   ],
   "source": [
    "img_dir = r'C:\\Users\\YongTaek\\Desktop\\test\\test11.jpg'\n",
    "face_detection(img_dir)"
   ]
  },
  {
   "cell_type": "code",
   "execution_count": null,
   "metadata": {},
   "outputs": [],
   "source": []
  }
 ],
 "metadata": {
  "kernelspec": {
   "display_name": "Python 3",
   "language": "python",
   "name": "python3"
  },
  "language_info": {
   "codemirror_mode": {
    "name": "ipython",
    "version": 3
   },
   "file_extension": ".py",
   "mimetype": "text/x-python",
   "name": "python",
   "nbconvert_exporter": "python",
   "pygments_lexer": "ipython3",
   "version": "3.6.9"
  }
 },
 "nbformat": 4,
 "nbformat_minor": 2
}
